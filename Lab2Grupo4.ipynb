{
  "nbformat": 4,
  "nbformat_minor": 0,
  "metadata": {
    "colab": {
      "provenance": [],
      "collapsed_sections": []
    },
    "kernelspec": {
      "name": "python3",
      "display_name": "Python 3"
    },
    "language_info": {
      "name": "python"
    }
  },
  "cells": [
    {
      "cell_type": "markdown",
      "source": [
        "1. Define a procedure histogram () that takes a list of whole numbers and prints a histogram on the screen."
      ],
      "metadata": {
        "id": "BhQ5KhBdHOU0"
      }
    },
    {
      "cell_type": "code",
      "source": [
        "def histogram(a):\n",
        "\n",
        "  x=\"* \"\n",
        "\n",
        "  num=int(input(\"Ingrese un numero 1: \"))\n",
        "  numb=int(input(\"Ingrese un numero 2: \"))\n",
        "\n",
        "  for i in range(num):\n",
        "    for j in range(numb):\n",
        "\n",
        "        xd=((i)*x)\n",
        "        xd2=((j)*x)\n",
        "\n",
        "    print(xd)\n",
        "    print(xd2, end=\"\")\n",
        "\n",
        "  return i\n",
        "  return j\n",
        "\n",
        "histo=[3,4,56,7,25]\n",
        "\n",
        "histogram(histo)\n"
      ],
      "metadata": {
        "colab": {
          "base_uri": "https://localhost:8080/"
        },
        "id": "Cbl8eBt0G1NR",
        "outputId": "92d7d280-6890-4a02-fb4b-272e2c6824f3"
      },
      "execution_count": 13,
      "outputs": [
        {
          "output_type": "stream",
          "name": "stdout",
          "text": [
            "Ingrese un numero 1: 3\n",
            "Ingrese un numero 2: 4\n",
            "\n",
            "* * * * \n",
            "* * * * * \n",
            "* * * "
          ]
        },
        {
          "output_type": "execute_result",
          "data": {
            "text/plain": [
              "2"
            ]
          },
          "metadata": {},
          "execution_count": 13
        }
      ]
    },
    {
      "cell_type": "markdown",
      "source": [
        "Write a longer_long () function that takes a list of words and returns the longest.\n"
      ],
      "metadata": {
        "id": "0oOLciv8KHFL"
      }
    },
    {
      "cell_type": "code",
      "source": [
        "lista = [\"sajkdjkas\",\"sada\",\"afasf\",\"ola\"]\n",
        "def longer_long(lista):\n",
        "  b=\"\"\n",
        "  c=\"\"\n",
        "  for i in lista:\n",
        "    b+=str(len(i))\n",
        "  c=list(b)\n",
        "  d=max(c)\n",
        "  for i in lista:\n",
        "    if len(i) == int(d):\n",
        "      c=print(\"la palabra mas larga es\", i, \"con\", d, \"caracteres\")\n",
        "  return c\n",
        "longer_long(lista)"
      ],
      "metadata": {
        "id": "xnZiox96qvGQ",
        "colab": {
          "base_uri": "https://localhost:8080/"
        },
        "outputId": "5e08e96a-c032-4037-8439-6efcce8e14a9"
      },
      "execution_count": 7,
      "outputs": [
        {
          "output_type": "stream",
          "name": "stdout",
          "text": [
            "la palabra mas larga es sajkdjkas con 9 caracteres\n"
          ]
        }
      ]
    },
    {
      "cell_type": "markdown",
      "source": [
        "Write a program that tells the user to enter a string. The program has to evaluate the string and say how many capital letters it has.\n"
      ],
      "metadata": {
        "id": "EqQswEClKMkn"
      }
    },
    {
      "cell_type": "code",
      "source": [
        "def mayu(palabra):\n",
        "  b=input(\"Ingrese una palabra: \")\n",
        "  import string\n",
        "  a=list(string.ascii_uppercase)\n",
        "  c=\"\"\n",
        "  d=\"\"\n",
        "  for i in a:\n",
        "    for j in b:\n",
        "      if i==j:\n",
        "        c+=i\n",
        "  d=print(\"la palabra tiene\", len(c), \"letras mayusculas\")\n",
        "  return d\n",
        "mayu(a)#escribir mayo(una variable cualquiera) para ejecutar el programa, ahi pide la palabra a evaluar\n"
      ],
      "metadata": {
        "id": "0QhMSYf5vvVZ",
        "colab": {
          "base_uri": "https://localhost:8080/"
        },
        "outputId": "6c4636a0-48ac-4883-f6c8-946220165c2e"
      },
      "execution_count": 5,
      "outputs": [
        {
          "output_type": "stream",
          "name": "stdout",
          "text": [
            "Ingrese una palabra: Hola\n",
            "la palabra tiene 1 letras mayusculas\n"
          ]
        }
      ]
    },
    {
      "cell_type": "markdown",
      "source": [
        "Build a small program that converts binary numbers to integers."
      ],
      "metadata": {
        "id": "HxOeyj2MKZI1"
      }
    },
    {
      "cell_type": "code",
      "source": [
        "def bindec(num):\n",
        "  x=0\n",
        "  y=0\n",
        "  print(\"el binario\", num)\n",
        "  while(num>=1):\n",
        "    d=num%10;\n",
        "    num=int(num/10)\n",
        "    x=x+d*pow(2,y);\n",
        "    y=y+1 \n",
        "  print(\"corresponde al numero\", x)\n"
      ],
      "metadata": {
        "id": "FGl0IykaGNOw"
      },
      "execution_count": 8,
      "outputs": []
    },
    {
      "cell_type": "code",
      "source": [
        "bindec(1000)"
      ],
      "metadata": {
        "colab": {
          "base_uri": "https://localhost:8080/"
        },
        "id": "LM1C6iCzGNtu",
        "outputId": "2e8852d5-460b-47f4-dac4-b18e86d4471f"
      },
      "execution_count": 9,
      "outputs": [
        {
          "output_type": "stream",
          "name": "stdout",
          "text": [
            "el binario 1000\n",
            "corresponde al numero 8\n"
          ]
        }
      ]
    },
    {
      "cell_type": "markdown",
      "source": [
        "Create a function count_vols (), which receives a word and counts how many letters \"a\" it has, how many letters \"e\" it has, and so on until all the vowels are completed."
      ],
      "metadata": {
        "id": "AICglO8cKgIQ"
      }
    },
    {
      "cell_type": "code",
      "source": [
        "def l():\n",
        "    global txt\n",
        "    txt=(input(\"ingrese una palabra:  \")).lower()\n",
        "def c():\n",
        "    v=[\"a\"]\n",
        "    d=[\"e\"]\n",
        "    \n",
        "    cont_a=0\n",
        "    cont_e=0\n",
        "\n",
        "    for i in v:\n",
        "        for j in txt:\n",
        "            if(i==j):\n",
        "                cont_a+=1\n",
        "    for r in d:\n",
        "        for y in txt:\n",
        "            if(r==y):\n",
        "                cont_e+=1\n",
        "\n",
        "\n",
        "    cont=cont_a+cont_e\n",
        "    print(\"el numero total de vocales es: \" ,cont)\n",
        "    print(f\"\"\"el numero por vocal es:  \n",
        "    a: {cont_a}\n",
        "    e: {cont_e}\n",
        "    \"\"\")\n",
        "l()\n",
        "c()"
      ],
      "metadata": {
        "colab": {
          "base_uri": "https://localhost:8080/"
        },
        "id": "xCtT5RbWGSJC",
        "outputId": "10c98e46-04d8-4b52-909e-bd97d605031c"
      },
      "execution_count": 15,
      "outputs": [
        {
          "output_type": "stream",
          "name": "stdout",
          "text": [
            "ingrese una palabra:  rapera\n",
            "el numero total de vocales es:  3\n",
            "el numero por vocal es:  \n",
            "    a: 2\n",
            "    e: 1\n",
            "    \n"
          ]
        }
      ]
    },
    {
      "cell_type": "markdown",
      "source": [
        "Write a function is leap () that determines if a given year is a leap year"
      ],
      "metadata": {
        "id": "0UFyRsSMKjUY"
      }
    },
    {
      "cell_type": "code",
      "source": [
        "def es_bisiesto(anio):\n",
        "  if anio is 1/400:\n",
        "    return False\n",
        "  elif anio is 1/100 == 0:\n",
        "    return True\n",
        "  elif anio is 1/4 ==0:\n",
        "    return False\n",
        "  else:\n",
        "    return True\n",
        "\n",
        "anio = 2020\n",
        "print(\"¿El año\", anio, \"es bisiesto?:\", es_bisiesto(anio))"
      ],
      "metadata": {
        "colab": {
          "base_uri": "https://localhost:8080/"
        },
        "id": "BZsKS7Y-Gll8",
        "outputId": "889d48e4-879a-4bf7-b16e-77791d3c8af6"
      },
      "execution_count": 16,
      "outputs": [
        {
          "output_type": "stream",
          "name": "stdout",
          "text": [
            "¿El año 2020 es bisiesto?: True\n"
          ]
        }
      ]
    },
    {
      "cell_type": "markdown",
      "source": [
        "Write a program that asks for two words and tells whether or not they rhyme. If the last three letters match, you have to say that they rhyme. If only the last two coincide, he has to say that they rhyme a bit and if not, that they do not rhyme."
      ],
      "metadata": {
        "id": "q0wsHv9lKmoh"
      }
    },
    {
      "cell_type": "code",
      "source": [
        "plb1=input(\"Escriba la primera palabra: \")\n",
        "plb2=input(\"Escriba la segunda palabra: \")\n",
        "\n",
        "utp1=plb1[-3:]\n",
        "utp2=plb2[-3:]\n",
        "utp21=plb1[-2:]\n",
        "utp22=plb2[-2:]\n",
        "\n",
        "if utp1==utp2:\n",
        "  print(\" Estas palabras si riman\")\n",
        "\n",
        "elif utp21==utp22:\n",
        "  print(\" Estas palabras alcanzan a rimar\")\n",
        "\n",
        "else:\n",
        "    print(\" Estas palabras no riman\")"
      ],
      "metadata": {
        "colab": {
          "base_uri": "https://localhost:8080/"
        },
        "id": "rb5vlNMiHDi0",
        "outputId": "e0b8128a-7ab9-4759-f7cc-7741d6ab2697"
      },
      "execution_count": 17,
      "outputs": [
        {
          "output_type": "stream",
          "name": "stdout",
          "text": [
            "Escriba la primera palabra: nevera\n",
            "Escriba la segunda palabra: pera\n",
            " Estas palabras si riman\n"
          ]
        }
      ]
    },
    {
      "cell_type": "markdown",
      "source": [
        "It has a program that asks the user for a dollar amount, an interest rate, and a number of years. It shows on the screen how much the initial capital will have been converted after those years if the interest rate entered is applied each year."
      ],
      "metadata": {
        "id": "dueyKvpqKpjF"
      }
    },
    {
      "cell_type": "code",
      "source": [
        "def calculo (dinero, inte, cant_anos):\n",
        "\n",
        "  dlmnt=int(input(\"Ingrese la cantidad de dinero: \"))\n",
        "  intr=int(input(\"Ingrese el porcentaje de interés: \"))\n",
        "  years=int(input(\"¿Por cuántos años lo quiere? \"))\n",
        "\n",
        "  x=dlmnt*(1+intr/100)**years\n",
        "\n",
        "  print(x)\n",
        "\n",
        "  return x\n",
        "\n",
        "\n",
        "dlmnt=int(input(\"Ingrese la cantidad de dinero: \"))\n",
        "intr=int(input(\"Ingrese el porcentaje de interés: \"))\n",
        "years=int(input(\"¿Por cuántos años lo quiere? \"))\n",
        "\n",
        "x=dlmnt*(1+intr/100)**years\n",
        "\n",
        "print(\"Su resultado es:\", x)"
      ],
      "metadata": {
        "colab": {
          "base_uri": "https://localhost:8080/"
        },
        "id": "_vMkmrMiHI3F",
        "outputId": "6abad6e1-37aa-434b-c39e-b10c393575f6"
      },
      "execution_count": 18,
      "outputs": [
        {
          "output_type": "stream",
          "name": "stdout",
          "text": [
            "Ingrese la cantidad de dinero: 2000\n",
            "Ingrese el porcentaje de interés: 19\n",
            "¿Por cuántos años lo quiere? 2\n",
            "Su resultado es: 2832.2\n"
          ]
        }
      ]
    },
    {
      "cell_type": "markdown",
      "source": [
        "Create an algorithm that ask for one number the (0 to 100), the program have to create a multiplication table from 0 to the selected number."
      ],
      "metadata": {
        "id": "JHUOv3OMKs4H"
      }
    },
    {
      "cell_type": "code",
      "source": [
        "a=int(input(\"Ingrese un número entre 1 y 100: \"))\n",
        "b=a+1\n",
        "for i in range(0,b):\n",
        "  print(i, \"x\", a, \"=\",(i*a))"
      ],
      "metadata": {
        "id": "5LFIZAyWxzM3",
        "colab": {
          "base_uri": "https://localhost:8080/"
        },
        "outputId": "f41346a4-307e-4086-b254-96736dfbc331"
      },
      "execution_count": 19,
      "outputs": [
        {
          "output_type": "stream",
          "name": "stdout",
          "text": [
            "Ingrese un número entre 1 y 100: 9\n",
            "0 x 9 = 0\n",
            "1 x 9 = 9\n",
            "2 x 9 = 18\n",
            "3 x 9 = 27\n",
            "4 x 9 = 36\n",
            "5 x 9 = 45\n",
            "6 x 9 = 54\n",
            "7 x 9 = 63\n",
            "8 x 9 = 72\n",
            "9 x 9 = 81\n"
          ]
        }
      ]
    }
  ]
}
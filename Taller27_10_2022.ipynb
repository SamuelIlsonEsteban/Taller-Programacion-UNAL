{
  "nbformat": 4,
  "nbformat_minor": 0,
  "metadata": {
    "colab": {
      "provenance": []
    },
    "kernelspec": {
      "name": "python3",
      "display_name": "Python 3"
    },
    "language_info": {
      "name": "python"
    }
  },
  "cells": [
    {
      "cell_type": "code",
      "execution_count": null,
      "metadata": {
        "colab": {
          "base_uri": "https://localhost:8080/"
        },
        "id": "FB6dZxuM1gS7",
        "outputId": "1ca065b9-5885-488b-9bb7-d90664719bfe"
      },
      "outputs": [
        {
          "output_type": "stream",
          "name": "stdout",
          "text": [
            "Su nombre: Juan\n",
            "Su edad: 18\n",
            "Direccion: Suba\n",
            "Telefono: 3189129898\n",
            "Juan tiene 18 años , vive en Suba y su numero de telefono es:  3189129898\n",
            "{'nombre': 'Juan', 'edad': '18', 'direccion': 'Suba', 'telefono': 3189129898}\n"
          ]
        }
      ],
      "source": [
        "nombre= str(input(\"Su nombre: \"))\n",
        "edad= str(input(\"Su edad: \"))\n",
        "direccion= str(input(\"Direccion: \"))\n",
        "telefono= int(input(\"Telefono: \"))\n",
        "\n",
        "lista_datos={ \"nombre\":nombre, \"edad\":edad, \"direccion\":direccion, \"telefono\":telefono }\n",
        "\n",
        "\n",
        "print(nombre, \"tiene\", edad, \"años\",\",\", \"vive en\", direccion, \"y su numero de telefono es: \", telefono)\n",
        "\n",
        "print(lista_datos)"
      ]
    },
    {
      "cell_type": "code",
      "source": [
        "import datetime\n",
        "print(\"Ingrese su fecha de nacimiento en el formato DD/MM/AAAA\")\n",
        "dia=int(input(\"ingrese su dia de nacimiento: \"))\n",
        "mes=int(input(\"ingrese su mes de nacimiento: \"))\n",
        "año=int(input(\"ingrese su año de nacimiento: \"))\n",
        "fechan= datetime.datetime(año, mes, dia)\n",
        "fechah= datetime.datetime.now()\n",
        "diferencia= fechah-fechan\n",
        "dias=diferencia.days\n",
        "print(\"A dia de hoy: \",dia,\"/\",mes,\"/\",año,\"/\",\"Usted ha vivido\",dias,\"dias.\")"
      ],
      "metadata": {
        "colab": {
          "base_uri": "https://localhost:8080/"
        },
        "id": "BoG7Riqz1rQR",
        "outputId": "784820a2-8dd4-4474-818a-ebcc9744d715"
      },
      "execution_count": null,
      "outputs": [
        {
          "output_type": "stream",
          "name": "stdout",
          "text": [
            "Ingrese su fecha de nacimiento en el formato DD/MM/AAAA\n",
            "ingrese su dia de nacimiento: 22\n",
            "ingrese su mes de nacimiento: 10\n",
            "ingrese su año de nacimiento: 2003\n",
            "A dia de hoy:  22 / 10 / 2003 / Usted ha vivido 6943 dias.\n"
          ]
        }
      ]
    },
    {
      "cell_type": "code",
      "source": [
        "d=input(\"¿Quiere ingresar un nuevo usuario?(responda si o no) \")\n",
        "dic1={}\n",
        "while d!=\"no\" and d!=\"No\":\n",
        "  a=int(input(\"Ingrese su numero de usuario: \"))\n",
        "  b=input(\"Ingrese un dato: \")\n",
        "  c=input(\"ingrese otro dato: \")\n",
        "  e=input(\"ingrese otro dato: \")\n",
        "  d=input(\"Quiere ingresar un nuevo usuario?(responda si o no): \")\n",
        "  dic1[a]={\"dato1\":b,\"dato2\":c,\"dato3\":e}\n",
        "print(max(dic1),\":\",dic1.get(max(dic1)))\n",
        "print(min(dic1),\":\",dic1.get(min(dic1)),end=\"\")"
      ],
      "metadata": {
        "colab": {
          "base_uri": "https://localhost:8080/"
        },
        "id": "oAmKvQ5s1u4w",
        "outputId": "159adb9d-f1b9-4c12-a473-e87dc6175ef8"
      },
      "execution_count": null,
      "outputs": [
        {
          "output_type": "stream",
          "name": "stdout",
          "text": [
            "¿Quiere ingresar un nuevo usuario?(responda si o no) si\n",
            "Ingrese su numero de usuario: 10\n",
            "Ingrese un dato: hola\n",
            "ingrese otro dato: f\n",
            "ingrese otro dato: 99\n",
            "Quiere ingresar un nuevo usuario?(responda si o no): si\n",
            "Ingrese su numero de usuario: 7\n",
            "Ingrese un dato: el\n",
            "ingrese otro dato: bicho\n",
            "ingrese otro dato: siu\n",
            "Quiere ingresar un nuevo usuario?(responda si o no): si\n",
            "Ingrese su numero de usuario: 0\n",
            "Ingrese un dato: cr7\n",
            "ingrese otro dato: cr8\n",
            "ingrese otro dato: cr9\n",
            "Quiere ingresar un nuevo usuario?(responda si o no): no\n",
            "10 : {'dato1': 'hola', 'dato2': 'f', 'dato3': '99'}\n",
            "0 : {'dato1': 'cr7', 'dato2': 'cr8', 'dato3': 'cr9'}"
          ]
        }
      ]
    }
  ]
}
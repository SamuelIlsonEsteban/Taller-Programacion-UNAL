{
  "nbformat": 4,
  "nbformat_minor": 0,
  "metadata": {
    "colab": {
      "provenance": []
    },
    "kernelspec": {
      "name": "python3",
      "display_name": "Python 3"
    },
    "language_info": {
      "name": "python"
    }
  },
  "cells": [
    {
      "cell_type": "code",
      "source": [
        "def busca(target,problema):\n",
        "  with open(target) as f:#aqui se abre el archivo de acuerdo a la ruta que ingresa el usuario\n",
        "      lines = f.readlines()#aqui se leen todas las lineas del archivo\n",
        "  secuencia = \"\"#se define la variable secuencia, la cual sera la union de todas las lineas del archivo sin espacios\n",
        "  for i in lines[1:]:#con esto se salta la primera linea que contiene caracteres irrelevantes para la secuencia\n",
        "    secuencia+=i[:-1]#aqui es cuando se suma una linea detras de la otra eliminando el \\n\n",
        "  a=secuencia.find(problema)#con esta funcion se encuentra la secuencia que ingresa el usuario\n",
        "  b=len(problema)#se calcula la longitud de la cadena que ingreso el usuario\n",
        "  c=a+b#se suma la posicion inicial mas la longitud de la cadena para encontrar la posicion final de la secuencia\n",
        "  return(a, c)\n",
        "posicion=busca(\"/content/drive/MyDrive/Colab Notebooks/covid19.fasta\",\"AGTAGATGTAGTTAACTTTAATCTC\")\n",
        "print(posicion)"
      ],
      "metadata": {
        "colab": {
          "base_uri": "https://localhost:8080/"
        },
        "id": "yypw04NNQH4v",
        "outputId": "13f1e887-920b-4e6c-b9a2-509d5b6ca670"
      },
      "execution_count": 21,
      "outputs": [
        {
          "output_type": "stream",
          "name": "stdout",
          "text": [
            "(29643, 29668)\n"
          ]
        }
      ]
    }
  ]
}